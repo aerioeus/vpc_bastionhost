{
 "cells": [
  {
   "cell_type": "code",
   "execution_count": 118,
   "metadata": {},
   "outputs": [
    {
     "data": {
      "text/html": [
       "<pre style=\"white-space:pre;overflow-x:auto;line-height:normal;font-family:Menlo,'DejaVu Sans Mono',consolas,'Courier New',monospace\"><span style=\"color: #808000; text-decoration-color: #808000\">Key pair </span><span style=\"color: #808000; text-decoration-color: #808000\">'BastionKey'</span><span style=\"color: #808000; text-decoration-color: #808000\"> already exists.</span>\n",
       "</pre>\n"
      ],
      "text/plain": [
       "\u001b[33mKey pair \u001b[0m\u001b[33m'BastionKey'\u001b[0m\u001b[33m already exists.\u001b[0m\n"
      ]
     },
     "metadata": {},
     "output_type": "display_data"
    }
   ],
   "source": [
    "# create a Keypair for ec2 Instance\n",
    "import boto3\n",
    "import os\n",
    "from botocore.exceptions import ClientError\n",
    "from rich import print as rprint\n",
    "\n",
    "def create_ec2_key_pair(key_name, file_name):\n",
    "    ec2 = boto3.client('ec2')\n",
    "\n",
    "    try:\n",
    "        # Check if the key pair already exists\n",
    "        ec2.describe_key_pairs(KeyNames=[key_name])\n",
    "        rprint(f\"[yellow]Key pair '{key_name}' already exists.[/yellow]\")\n",
    "    except ClientError as e:\n",
    "        if e.response['Error']['Code'] == 'InvalidKeyPair.NotFound':\n",
    "            try:\n",
    "                # Create a key pair\n",
    "                key_pair = ec2.create_key_pair(KeyName=key_name)\n",
    "\n",
    "                # Save the private key to a file\n",
    "                with open(file_name, 'w') as file:\n",
    "                    file.write(key_pair['KeyMaterial'])\n",
    "\n",
    "                rprint(f\"[green]Key pair '{key_name}' created and saved to '{file_name}'[/green]\")\n",
    "            except Exception as create_error:\n",
    "                rprint(f\"[red]An error occurred while creating the key pair: {create_error}[/red]\")\n",
    "        else:\n",
    "            rprint(f\"[red]An error occurred: {e}[/red]\")\n",
    "\n",
    "if __name__ == \"__main__\":\n",
    "    key_name = \"BastionKey\"\n",
    "    file_name = os.path.join(os.getcwd(), f\"{key_name}.pem\")\n",
    "\n",
    "    create_ec2_key_pair(key_name, file_name)"
   ]
  },
  {
   "cell_type": "code",
   "execution_count": 137,
   "metadata": {},
   "outputs": [
    {
     "name": "stdout",
     "output_type": "stream",
     "text": [
      "Security Group 'SGBastion' already exists.\n",
      "Security Group ID: sg-0ad81ad39818e2710\n"
     ]
    }
   ],
   "source": [
    "# create security group for Bastion Host in VPC\n",
    "import boto3\n",
    "from botocore.exceptions import ClientError\n",
    "\n",
    "def get_vpc_id(tag_name, tag_value):\n",
    "    ec2 = boto3.client('ec2')\n",
    "    vpcs = ec2.describe_vpcs(Filters=[{'Name': f'tag:{tag_name}', 'Values': [tag_value]}])\n",
    "    return vpcs['Vpcs'][0]['VpcId']\n",
    "\n",
    "def create_security_group(vpc_id, group_name, description, ingress_rules, tags):\n",
    "    ec2 = boto3.client('ec2')\n",
    "    try:\n",
    "        response = ec2.create_security_group(\n",
    "            GroupName=group_name,\n",
    "            Description=description,\n",
    "            VpcId=vpc_id\n",
    "        )\n",
    "        security_group_id = response['GroupId']\n",
    "        print(f\"Security Group '{group_name}' created with ID: {security_group_id}\")\n",
    "\n",
    "        # Authorize Ingress Rules\n",
    "        for rule in ingress_rules:\n",
    "            ec2.authorize_security_group_ingress(\n",
    "                GroupId=security_group_id,\n",
    "                IpPermissions=[rule]\n",
    "            )\n",
    "\n",
    "        # Tag the Security Group\n",
    "        ec2.create_tags(Resources=[security_group_id], Tags=tags)\n",
    "\n",
    "        return security_group_id\n",
    "    except ClientError as e:\n",
    "        if e.response['Error']['Code'] == 'InvalidGroup.Duplicate':\n",
    "            print(f\"Security Group '{group_name}' already exists.\")\n",
    "            # Retrieve existing security group ID\n",
    "            response = ec2.describe_security_groups(Filters=[{'Name': 'group-name', 'Values': [group_name]}])\n",
    "            return response['SecurityGroups'][0]['GroupId']\n",
    "        else:\n",
    "            raise e\n",
    "\n",
    "def main():\n",
    "    vpc_id = get_vpc_id('Name', 'MyVPC')\n",
    "    group_name = 'SGBastion'\n",
    "    description = 'Bastion host security group'\n",
    "    ingress_rules = [\n",
    "        {\n",
    "            'IpProtocol': 'tcp',\n",
    "            'FromPort': 22,\n",
    "            'ToPort': 22,\n",
    "            'IpRanges': [{'CidrIp': '0.0.0.0/0'}]\n",
    "        }\n",
    "    ]\n",
    "    tags = [\n",
    "        {\n",
    "            'Key': 'Name',\n",
    "            'Value': 'SGBastion'\n",
    "        }\n",
    "    ]\n",
    "    security_group_id = create_security_group(vpc_id, group_name, description, ingress_rules, tags)\n",
    "    print(f\"Security Group ID: {security_group_id}\")\n",
    "\n",
    "if __name__ == \"__main__\":\n",
    "    main()"
   ]
  },
  {
   "cell_type": "code",
   "execution_count": 138,
   "metadata": {},
   "outputs": [
    {
     "data": {
      "text/html": [
       "<pre style=\"white-space:pre;overflow-x:auto;line-height:normal;font-family:Menlo,'DejaVu Sans Mono',consolas,'Courier New',monospace\">vpc-05ba0b3d918278348\n",
       "</pre>\n"
      ],
      "text/plain": [
       "vpc-05ba0b3d918278348\n"
      ]
     },
     "metadata": {},
     "output_type": "display_data"
    }
   ],
   "source": [
    "import boto3\n",
    "from rich import print as rprint\n",
    "\n",
    "#get VPC ID\n",
    "vpc_name = 'MyVPC'\n",
    "\n",
    "ec2 = boto3.client('ec2')\n",
    "response = ec2.describe_vpcs(\n",
    "    Filters=[\n",
    "        {'Name': 'tag:Name', 'Values': [vpc_name]}\n",
    "    ]\n",
    ")\n",
    "\n",
    "vpcs = response['Vpcs'][0]['VpcId']\n",
    "rprint(vpcs)"
   ]
  },
  {
   "cell_type": "code",
   "execution_count": 139,
   "metadata": {},
   "outputs": [
    {
     "data": {
      "text/html": [
       "<pre style=\"white-space:pre;overflow-x:auto;line-height:normal;font-family:Menlo,'DejaVu Sans Mono',consolas,'Courier New',monospace\">subnet-0d54857ec6b669688\n",
       "</pre>\n"
      ],
      "text/plain": [
       "subnet-0d54857ec6b669688\n"
      ]
     },
     "metadata": {},
     "output_type": "display_data"
    }
   ],
   "source": [
    "ec2 = boto3.client('ec2')\n",
    "\n",
    "vpc_id = vpc_id\n",
    "subnet_name = 'public_subnet_1'\n",
    "availability_zone = 'eu-west-1a'\n",
    "\n",
    "response = ec2.describe_subnets(\n",
    "    Filters=[\n",
    "        {'Name': 'vpc-id', 'Values': [vpc_id]},\n",
    "        {'Name': 'availability-zone', 'Values': [availability_zone]},\n",
    "        {'Name': 'tag:Name', 'Values': [subnet_name]}\n",
    "    ]\n",
    ")\n",
    "\n",
    "\n",
    "subnets = response['Subnets'][0]['SubnetId']\n",
    "if not subnets:\n",
    "    raise ValueError(f\"No private subnet found in {availability_zone} with the specified criteria.\")\n",
    "\n",
    "rprint(subnets)"
   ]
  },
  {
   "cell_type": "code",
   "execution_count": 140,
   "metadata": {},
   "outputs": [
    {
     "data": {
      "text/html": [
       "<pre style=\"white-space:pre;overflow-x:auto;line-height:normal;font-family:Menlo,'DejaVu Sans Mono',consolas,'Courier New',monospace\">sg-0ad81ad39818e2710\n",
       "</pre>\n"
      ],
      "text/plain": [
       "sg-0ad81ad39818e2710\n"
      ]
     },
     "metadata": {},
     "output_type": "display_data"
    }
   ],
   "source": [
    "ec2 = boto3.client('ec2')\n",
    "security_group_name='SGBastion'\n",
    "\n",
    "\n",
    "response = ec2.describe_security_groups(\n",
    "    Filters=[\n",
    "        {'Name': 'vpc-id', 'Values': [vpc_id]},\n",
    "        {'Name': 'group-name', 'Values': [security_group_name]}\n",
    "    ]\n",
    ")\n",
    "\n",
    "security_group_id = response['SecurityGroups'][0]['GroupId']\n",
    "rprint(security_group_id)"
   ]
  },
  {
   "cell_type": "code",
   "execution_count": 141,
   "metadata": {},
   "outputs": [
    {
     "name": "stdout",
     "output_type": "stream",
     "text": [
      "Using AMI ID: ami-00caa7df15d2e771f\n",
      "Instance created: i-0576e458537401716\n",
      "Public IP Address: 3.254.155.240\n"
     ]
    }
   ],
   "source": [
    "import boto3\n",
    "from botocore.exceptions import ClientError\n",
    "\n",
    "def get_vpc_id(vpc_name):\n",
    "    ec2 = boto3.client('ec2')\n",
    "    response = ec2.describe_vpcs(Filters=[{'Name': 'tag:Name', 'Values': [vpc_name]}])\n",
    "    if not response['Vpcs']:\n",
    "        raise ValueError(f\"No VPC found with the name {vpc_name}\")\n",
    "    return response['Vpcs'][0]['VpcId']\n",
    "\n",
    "def get_subnet_id(vpc_id, subnet_name, availability_zone):\n",
    "    ec2 = boto3.client('ec2')\n",
    "    response = ec2.describe_subnets(\n",
    "        Filters=[\n",
    "            {'Name': 'vpc-id', 'Values': [vpc_id]},\n",
    "            {'Name': 'availability-zone', 'Values': [availability_zone]},\n",
    "            {'Name': 'tag:Name', 'Values': [subnet_name]}\n",
    "        ]\n",
    "    )\n",
    "    if not response['Subnets']:\n",
    "        raise ValueError(f\"No subnet found in {availability_zone} with the name {subnet_name}\")\n",
    "    return response['Subnets'][0]['SubnetId']\n",
    "\n",
    "def get_security_group_id(security_group_name, vpc_id):\n",
    "    ec2 = boto3.client('ec2')\n",
    "    response = ec2.describe_security_groups(\n",
    "        Filters=[\n",
    "            {'Name': 'vpc-id', 'Values': [vpc_id]},\n",
    "            {'Name': 'group-name', 'Values': [security_group_name]}\n",
    "        ]\n",
    "    )\n",
    "    return response['SecurityGroups'][0]['GroupId']\n",
    "\n",
    "def get_instance_public_ip(tag_key, tag_value):\n",
    "    ec2 = boto3.client('ec2')\n",
    "    response = ec2.describe_instances(\n",
    "        Filters=[\n",
    "            {'Name': f'tag:{tag_key}', 'Values': [tag_value]},\n",
    "            {'Name': 'instance-state-name', 'Values': ['pending', 'running']}\n",
    "        ]\n",
    "    )\n",
    "    if response['Reservations']:\n",
    "        return response['Reservations'][0]['Instances'][0].get('PublicIpAddress', 'No public IP assigned')\n",
    "    return None\n",
    "\n",
    "def create_ec2_instance(vpc_name, key_name, security_group_name):\n",
    "    ec2 = boto3.client('ec2')\n",
    "    try:\n",
    "        if check_instance_exists('Name', 'Bastion_AZ_1a'):\n",
    "            public_ip = get_instance_public_ip('Name', 'Bastion_AZ_1a')\n",
    "            print(f\"An instance with the tag 'Bastion_AZ_1a' already exists with Public IP: {public_ip}\")\n",
    "            return\n",
    "\n",
    "        vpc_id = get_vpc_id(vpc_name)\n",
    "        availability_zone = 'eu-west-1a'\n",
    "        public_subnet_id = get_subnet_id(vpc_id, 'public_subnet_1', availability_zone)\n",
    "        security_group_id = get_security_group_id(security_group_name, vpc_id)\n",
    "\n",
    "        # Get the latest Amazon Linux 2 AMI\n",
    "        response = ec2.describe_images(\n",
    "            Filters=[\n",
    "                {'Name': 'name', 'Values': ['amzn2-ami-hvm-2.0.*-x86_64-gp2']},\n",
    "                {'Name': 'owner-alias', 'Values': ['amazon']}\n",
    "            ],\n",
    "            Owners=['amazon'],\n",
    "            MaxResults=1000\n",
    "        )\n",
    "        images = response['Images']\n",
    "        latest_image = sorted(images, key=lambda x: x['CreationDate'], reverse=True)[0]\n",
    "        ami_id = latest_image['ImageId']\n",
    "        print(f\"Using AMI ID: {ami_id}\")\n",
    "\n",
    "        # Create the EC2 instance\n",
    "        response = ec2.run_instances(\n",
    "            ImageId=ami_id,\n",
    "            KeyName=key_name,\n",
    "            SecurityGroupIds=[security_group_id],\n",
    "            SubnetId=public_subnet_id,\n",
    "            InstanceType='t2.micro',\n",
    "            Placement={'AvailabilityZone': availability_zone},\n",
    "            BlockDeviceMappings=[{'DeviceName': '/dev/sdh', 'Ebs': {'VolumeSize': 100}}],\n",
    "            MinCount=1,\n",
    "            MaxCount=1,\n",
    "            InstanceInitiatedShutdownBehavior='stop',\n",
    "            TagSpecifications=[\n",
    "                {\n",
    "                    'ResourceType': 'instance',\n",
    "                    'Tags': [{'Key': 'Name', 'Value': 'Bastion_AZ_1a'}]\n",
    "                },\n",
    "                {\n",
    "                    'ResourceType': 'volume',\n",
    "                    'Tags': [{'Key': 'Name', 'Value': 'Bastion'}]\n",
    "                }\n",
    "            ]\n",
    "        )\n",
    "\n",
    "        instance_id = response['Instances'][0]['InstanceId']\n",
    "        print(f\"Instance created: {instance_id}\")\n",
    "\n",
    "        # Wait for the instance to get a public IP address\n",
    "        waiter = ec2.get_waiter('instance_running')\n",
    "        waiter.wait(InstanceIds=[instance_id])\n",
    "\n",
    "        # Get the public IP address\n",
    "        response = ec2.describe_instances(InstanceIds=[instance_id])\n",
    "        public_ip = response['Reservations'][0]['Instances'][0]['PublicIpAddress']\n",
    "        print(f\"Public IP Address: {public_ip}\")\n",
    "\n",
    "    except ClientError as e:\n",
    "        print(f\"An error occurred: {e}\")\n",
    "\n",
    "def check_instance_exists(tag_key, tag_value):\n",
    "    ec2 = boto3.client('ec2')\n",
    "    response = ec2.describe_instances(\n",
    "        Filters=[\n",
    "            {'Name': f'tag:{tag_key}', 'Values': [tag_value]},\n",
    "            {'Name': 'instance-state-name', 'Values': ['pending', 'running']}\n",
    "        ]\n",
    "    )\n",
    "    return len(response['Reservations']) > 0\n",
    "\n",
    "if __name__ == \"__main__\":\n",
    "    vpc_name = 'MyVPC'\n",
    "    key_name = 'BastionKey'\n",
    "    security_group_name = 'SGBastion'\n",
    "    create_ec2_instance(vpc_name, key_name, security_group_name)"
   ]
  }
 ],
 "metadata": {
  "kernelspec": {
   "display_name": "Python 3",
   "language": "python",
   "name": "python3"
  },
  "language_info": {
   "codemirror_mode": {
    "name": "ipython",
    "version": 3
   },
   "file_extension": ".py",
   "mimetype": "text/x-python",
   "name": "python",
   "nbconvert_exporter": "python",
   "pygments_lexer": "ipython3",
   "version": "3.12.4"
  }
 },
 "nbformat": 4,
 "nbformat_minor": 2
}
